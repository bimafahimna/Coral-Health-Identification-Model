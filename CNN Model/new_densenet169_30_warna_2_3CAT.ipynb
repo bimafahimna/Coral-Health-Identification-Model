{
  "cells": [
    {
      "cell_type": "code",
      "execution_count": 1,
      "metadata": {
        "id": "Cb07UR-iQfIl"
      },
      "outputs": [],
      "source": [
        "from keras.layers.preprocessing.normalization import Normalization\n",
        "from tensorflow.keras.preprocessing.image import img_to_array\n",
        "from tensorflow.keras.applications import MobileNetV2, VGG19, DenseNet121, DenseNet169\n",
        "from tensorflow.keras.layers import AveragePooling2D\n",
        "from tensorflow.keras.layers import Dropout\n",
        "from tensorflow.keras.layers import Flatten\n",
        "from tensorflow.keras.layers import Dense\n",
        "from tensorflow.keras.layers import Input\n",
        "from tensorflow.keras.layers import BatchNormalization\n",
        "from tensorflow.keras.models import Model\n",
        "from tensorflow.keras import regularizers\n",
        "from keras.models import Sequential\n",
        "from keras import layers\n",
        "\n",
        "from tensorflow.keras.preprocessing.image import img_to_array\n",
        "from tensorflow.keras.preprocessing.image import load_img\n",
        "from tensorflow.keras.preprocessing.image import ImageDataGenerator\n",
        "\n",
        "\n",
        "from sklearn.preprocessing import MultiLabelBinarizer\n",
        "from sklearn.model_selection import train_test_split\n",
        "from sklearn import metrics\n",
        "from sklearn.metrics import classification_report\n",
        "from sklearn.metrics import ConfusionMatrixDisplay\n",
        "from sklearn.metrics import confusion_matrix\n",
        "\n",
        "import matplotlib.pyplot as plt\n",
        "import numpy as np\n",
        "import random\n",
        "import cv2\n",
        "import os\n",
        "import seaborn as sns\n",
        "import pickle"
      ]
    },
    {
      "cell_type": "code",
      "execution_count": 2,
      "metadata": {
        "colab": {
          "base_uri": "https://localhost:8080/"
        },
        "id": "VpeNXQ2r-nkp",
        "outputId": "3f725ebf-bf58-4e0a-c22f-a3d6268dc8f9"
      },
      "outputs": [
        {
          "name": "stdout",
          "output_type": "stream",
          "text": [
            "Drive already mounted at /content/drive; to attempt to forcibly remount, call drive.mount(\"/content/drive\", force_remount=True).\n"
          ]
        }
      ],
      "source": [
        "from google.colab import drive\n",
        "drive.mount('/content/drive')"
      ]
    },
    {
      "cell_type": "code",
      "execution_count": 3,
      "metadata": {
        "colab": {
          "base_uri": "https://localhost:8080/"
        },
        "id": "4aqPrSUGQiiy",
        "outputId": "bf31c552-fb7f-4a7b-c414-5c6528f17e14"
      },
      "outputs": [
        {
          "name": "stdout",
          "output_type": "stream",
          "text": [
            "Requirement already satisfied: imutils in /usr/local/lib/python3.10/dist-packages (0.5.4)\n"
          ]
        }
      ],
      "source": [
        "!pip install imutils"
      ]
    },
    {
      "cell_type": "code",
      "execution_count": 4,
      "metadata": {
        "id": "Vg0vHfdqQmXg"
      },
      "outputs": [],
      "source": [
        "from imutils import paths"
      ]
    },
    {
      "cell_type": "code",
      "execution_count": 5,
      "metadata": {
        "colab": {
          "base_uri": "https://localhost:8080/"
        },
        "id": "KzEmADFwQrS0",
        "outputId": "2a097630-c3e6-4def-edf0-1dcfe0a26198"
      },
      "outputs": [
        {
          "name": "stdout",
          "output_type": "stream",
          "text": [
            "520 images (611.52MB)\n"
          ]
        }
      ],
      "source": [
        "imagePaths = sorted(list(paths.list_images(\"/content/drive/MyDrive/Skripsi/Dataset Terumbu Karang/Dataset/Data Warna/data_warna fix\")))\n",
        "\n",
        "# random shuffle\n",
        "random.seed(42)\n",
        "random.shuffle(imagePaths)\n",
        "\n",
        "data = []\n",
        "labels = []\n",
        "image_dims = (224, 224, 3)\n",
        "\n",
        "for imagePath in imagePaths:\n",
        "    image = cv2.imread(imagePath)\n",
        "    image = cv2.resize(image, (image_dims[1], image_dims[0]))\n",
        "    image = img_to_array(image)\n",
        "    data.append(image)\n",
        "    l = label = imagePath.split(os.path.sep)[-2].split(\"_\")\n",
        "    labels.append(l)\n",
        "\n",
        "data = np.array(data, dtype=\"float\") / 255.0\n",
        "labels = np.array(labels)\n",
        "print(\"{} images ({:.2f}MB)\".format(len(imagePaths), data.nbytes / (1024 * 1000.0)))"
      ]
    },
    {
      "cell_type": "code",
      "execution_count": 6,
      "metadata": {
        "id": "mmCSv9swnhm0"
      },
      "outputs": [],
      "source": [
        "aug = ImageDataGenerator(\n",
        "    rotation_range=20,\n",
        "    zoom_range=0.15,\n",
        "    width_shift_range=0.2,\n",
        "    height_shift_range=0.2,\n",
        "    shear_range=0.15,\n",
        "    horizontal_flip=True,\n",
        "    fill_mode=\"nearest\",\n",
        ")"
      ]
    },
    {
      "cell_type": "code",
      "execution_count": 7,
      "metadata": {
        "colab": {
          "base_uri": "https://localhost:8080/"
        },
        "id": "QsMj9vGRRLC8",
        "outputId": "bebdea70-a64c-4826-e3b2-ed939e4908bc"
      },
      "outputs": [
        {
          "name": "stdout",
          "output_type": "stream",
          "text": [
            "(520, 224, 224, 3)\n"
          ]
        }
      ],
      "source": [
        "data = np.array(data)\n",
        "label = np.array(labels)\n",
        "print(data.shape)"
      ]
    },
    {
      "cell_type": "markdown",
      "metadata": {
        "id": "Uvmi2mN2oKkS"
      },
      "source": []
    },
    {
      "cell_type": "code",
      "execution_count": 8,
      "metadata": {
        "colab": {
          "base_uri": "https://localhost:8080/"
        },
        "id": "v42xWSjvRNjO",
        "outputId": "496b04ca-4a79-4f0d-f729-0ab5a0241f73"
      },
      "outputs": [
        {
          "name": "stdout",
          "output_type": "stream",
          "text": [
            "class labels:\n",
            "1. Bleached\n",
            "2. Healthy\n",
            "3. Partially Bleached\n"
          ]
        }
      ],
      "source": [
        "mlb = MultiLabelBinarizer()\n",
        "labels = mlb.fit_transform(labels)\n",
        "# total 3 labels\n",
        "print(\"class labels:\")\n",
        "for (i, label) in enumerate(mlb.classes_):\n",
        "    print(\"{}. {}\".format(i + 1, label))"
      ]
    },
    {
      "cell_type": "code",
      "execution_count": 9,
      "metadata": {
        "id": "4Y8ZrLxQfzun"
      },
      "outputs": [],
      "source": [
        "densenet = DenseNet169(\n",
        "    weights='imagenet',\n",
        "    include_top=False,\n",
        "    input_shape=(224,224,3)\n",
        ")"
      ]
    },
    {
      "cell_type": "code",
      "execution_count": 10,
      "metadata": {
        "id": "zY3wvGvPRP1P"
      },
      "outputs": [],
      "source": [
        "bs = 8\n",
        "lr = 0.001\n",
        "size = (224, 224)\n",
        "shape = (224,224, 3)\n",
        "epochs = 30\n",
        "class_number = 3"
      ]
    },
    {
      "cell_type": "code",
      "execution_count": 11,
      "metadata": {
        "id": "JAREKGXcRO0X"
      },
      "outputs": [],
      "source": [
        "\n",
        "def DenseNet_model(learning_rate, input_shape,class_number):\n",
        "    densenet = DenseNet169(\n",
        "    weights='imagenet',\n",
        "    include_top=False,\n",
        "    input_shape=input_shape)\n",
        "\n",
        "    for layer in densenet.layers[:-4]:\n",
        "        layer.trainable = False\n",
        "\n",
        "    model = Sequential()\n",
        "    model.add(densenet)\n",
        "    model.add(AveragePooling2D(pool_size=(2, 2)))\n",
        "    model.add(Flatten())\n",
        "    model.add(Dense(512, activation=\"relu\"))\n",
        "\n",
        "    model.add(Dropout(0.5))\n",
        "    model.add(layers.Dense(class_number, activation='softmax'))\n",
        "\n",
        "    return model\n"
      ]
    },
    {
      "cell_type": "code",
      "execution_count": 12,
      "metadata": {
        "id": "aKaseshWhbpC"
      },
      "outputs": [],
      "source": [
        "model = DenseNet_model(lr,shape,class_number)\n",
        "model.compile(loss= \"categorical_crossentropy\", metrics=[\"accuracy\"], optimizer=\"adam\")"
      ]
    },
    {
      "cell_type": "code",
      "execution_count": 13,
      "metadata": {
        "colab": {
          "base_uri": "https://localhost:8080/"
        },
        "id": "t-9ipxlLhMF7",
        "outputId": "04d9f01d-1884-437b-f564-477405c97b82"
      },
      "outputs": [
        {
          "name": "stdout",
          "output_type": "stream",
          "text": [
            "Model: \"sequential\"\n",
            "_________________________________________________________________\n",
            " Layer (type)                Output Shape              Param #   \n",
            "=================================================================\n",
            " densenet169 (Functional)    (None, 7, 7, 1664)        12642880  \n",
            "                                                                 \n",
            " average_pooling2d (AverageP  (None, 3, 3, 1664)       0         \n",
            " ooling2D)                                                       \n",
            "                                                                 \n",
            " flatten (Flatten)           (None, 14976)             0         \n",
            "                                                                 \n",
            " dense (Dense)               (None, 512)               7668224   \n",
            "                                                                 \n",
            " dropout (Dropout)           (None, 512)               0         \n",
            "                                                                 \n",
            " dense_1 (Dense)             (None, 3)                 1539      \n",
            "                                                                 \n",
            "=================================================================\n",
            "Total params: 20,312,643\n",
            "Trainable params: 7,709,955\n",
            "Non-trainable params: 12,602,688\n",
            "_________________________________________________________________\n"
          ]
        }
      ],
      "source": [
        "model.summary()"
      ]
    },
    {
      "cell_type": "code",
      "execution_count": 14,
      "metadata": {
        "id": "SN3TNwCBRa-H"
      },
      "outputs": [],
      "source": [
        "trainX, testX, trainY, testY = train_test_split(data, labels, test_size=0.20)"
      ]
    },
    {
      "cell_type": "code",
      "execution_count": 15,
      "metadata": {
        "colab": {
          "base_uri": "https://localhost:8080/"
        },
        "id": "_MLbAOGrRmdu",
        "outputId": "ed00eedb-9848-4272-d860-c0de88066466"
      },
      "outputs": [
        {
          "name": "stdout",
          "output_type": "stream",
          "text": [
            "[INFO] training ...\n",
            "Epoch 1/30\n",
            "52/52 [==============================] - 28s 193ms/step - loss: 5.8818 - accuracy: 0.4423 - val_loss: 1.5568 - val_accuracy: 0.5865\n",
            "Epoch 2/30\n",
            "52/52 [==============================] - 6s 112ms/step - loss: 1.9099 - accuracy: 0.5264 - val_loss: 0.8370 - val_accuracy: 0.5865\n",
            "Epoch 3/30\n",
            "52/52 [==============================] - 8s 147ms/step - loss: 0.8287 - accuracy: 0.6298 - val_loss: 0.7435 - val_accuracy: 0.6635\n",
            "Epoch 4/30\n",
            "52/52 [==============================] - 6s 113ms/step - loss: 0.7779 - accuracy: 0.6707 - val_loss: 0.7307 - val_accuracy: 0.6731\n",
            "Epoch 5/30\n",
            "52/52 [==============================] - 8s 148ms/step - loss: 0.7421 - accuracy: 0.6683 - val_loss: 0.7560 - val_accuracy: 0.6250\n",
            "Epoch 6/30\n",
            "52/52 [==============================] - 6s 115ms/step - loss: 0.7524 - accuracy: 0.6635 - val_loss: 0.8371 - val_accuracy: 0.6442\n",
            "Epoch 7/30\n",
            "52/52 [==============================] - 8s 148ms/step - loss: 0.8238 - accuracy: 0.6274 - val_loss: 0.7277 - val_accuracy: 0.6250\n",
            "Epoch 8/30\n",
            "52/52 [==============================] - 6s 114ms/step - loss: 0.6839 - accuracy: 0.6971 - val_loss: 0.7015 - val_accuracy: 0.6442\n",
            "Epoch 9/30\n",
            "52/52 [==============================] - 7s 142ms/step - loss: 0.6993 - accuracy: 0.6851 - val_loss: 0.6793 - val_accuracy: 0.6923\n",
            "Epoch 10/30\n",
            "52/52 [==============================] - 6s 123ms/step - loss: 0.6481 - accuracy: 0.6899 - val_loss: 0.6450 - val_accuracy: 0.6923\n",
            "Epoch 11/30\n",
            "52/52 [==============================] - 8s 158ms/step - loss: 0.6051 - accuracy: 0.7428 - val_loss: 0.6648 - val_accuracy: 0.6442\n",
            "Epoch 12/30\n",
            "52/52 [==============================] - 6s 108ms/step - loss: 0.7412 - accuracy: 0.6707 - val_loss: 0.5816 - val_accuracy: 0.7404\n",
            "Epoch 13/30\n",
            "52/52 [==============================] - 7s 136ms/step - loss: 0.5761 - accuracy: 0.7524 - val_loss: 0.6387 - val_accuracy: 0.7308\n",
            "Epoch 14/30\n",
            "52/52 [==============================] - 7s 135ms/step - loss: 0.6374 - accuracy: 0.7260 - val_loss: 0.7110 - val_accuracy: 0.7212\n",
            "Epoch 15/30\n",
            "52/52 [==============================] - 7s 139ms/step - loss: 0.5825 - accuracy: 0.7524 - val_loss: 0.6613 - val_accuracy: 0.7885\n",
            "Epoch 16/30\n",
            "52/52 [==============================] - 6s 109ms/step - loss: 0.5778 - accuracy: 0.7837 - val_loss: 0.6503 - val_accuracy: 0.7404\n",
            "Epoch 17/30\n",
            "52/52 [==============================] - 6s 115ms/step - loss: 0.5988 - accuracy: 0.7284 - val_loss: 0.6271 - val_accuracy: 0.7019\n",
            "Epoch 18/30\n",
            "52/52 [==============================] - 8s 146ms/step - loss: 0.5873 - accuracy: 0.7500 - val_loss: 0.6792 - val_accuracy: 0.7115\n",
            "Epoch 19/30\n",
            "52/52 [==============================] - 6s 112ms/step - loss: 0.5717 - accuracy: 0.7428 - val_loss: 0.6245 - val_accuracy: 0.7212\n",
            "Epoch 20/30\n",
            "52/52 [==============================] - 7s 138ms/step - loss: 0.5616 - accuracy: 0.7524 - val_loss: 0.6420 - val_accuracy: 0.7692\n",
            "Epoch 21/30\n",
            "52/52 [==============================] - 6s 113ms/step - loss: 0.5125 - accuracy: 0.7837 - val_loss: 0.7145 - val_accuracy: 0.7596\n",
            "Epoch 22/30\n",
            "52/52 [==============================] - 7s 126ms/step - loss: 0.4978 - accuracy: 0.7885 - val_loss: 0.6901 - val_accuracy: 0.7308\n",
            "Epoch 23/30\n",
            "52/52 [==============================] - 6s 117ms/step - loss: 0.4605 - accuracy: 0.8125 - val_loss: 0.6548 - val_accuracy: 0.7692\n",
            "Epoch 24/30\n",
            "52/52 [==============================] - 8s 145ms/step - loss: 0.4645 - accuracy: 0.8269 - val_loss: 0.7371 - val_accuracy: 0.7500\n",
            "Epoch 25/30\n",
            "52/52 [==============================] - 6s 112ms/step - loss: 0.4640 - accuracy: 0.8125 - val_loss: 0.6694 - val_accuracy: 0.7596\n",
            "Epoch 26/30\n",
            "52/52 [==============================] - 7s 144ms/step - loss: 0.4462 - accuracy: 0.8125 - val_loss: 0.7433 - val_accuracy: 0.7115\n",
            "Epoch 27/30\n",
            "52/52 [==============================] - 6s 112ms/step - loss: 0.4712 - accuracy: 0.8053 - val_loss: 0.6643 - val_accuracy: 0.7500\n",
            "Epoch 28/30\n",
            "52/52 [==============================] - 8s 145ms/step - loss: 0.5105 - accuracy: 0.7957 - val_loss: 0.6667 - val_accuracy: 0.7596\n",
            "Epoch 29/30\n",
            "52/52 [==============================] - 9s 168ms/step - loss: 0.5201 - accuracy: 0.7933 - val_loss: 0.8142 - val_accuracy: 0.7115\n",
            "Epoch 30/30\n",
            "52/52 [==============================] - 6s 114ms/step - loss: 0.4656 - accuracy: 0.7933 - val_loss: 0.5878 - val_accuracy: 0.7788\n"
          ]
        }
      ],
      "source": [
        "print(\"[INFO] training ...\")\n",
        "H = model.fit(aug.flow(trainX, trainY, batch_size=bs),steps_per_epoch=len(trainX) // bs,\tvalidation_data=(testX, testY),\tvalidation_steps=len(testX) // bs,\tepochs=epochs)"
      ]
    },
    {
      "cell_type": "code",
      "execution_count": 16,
      "metadata": {
        "colab": {
          "base_uri": "https://localhost:8080/"
        },
        "id": "HTjDZMe3SvfD",
        "outputId": "f4c86753-b47e-449d-c6f0-e5d53e37e929"
      },
      "outputs": [
        {
          "name": "stdout",
          "output_type": "stream",
          "text": [
            "[INFO] evaluating network...\n",
            "13/13 [==============================] - 3s 44ms/step\n",
            "                    precision    recall  f1-score   support\n",
            "\n",
            "          Bleached       0.88      0.81      0.84        26\n",
            "           Healthy       0.83      0.56      0.67        27\n",
            "Partially Bleached       0.73      0.88      0.80        51\n",
            "\n",
            "          accuracy                           0.78       104\n",
            "         macro avg       0.81      0.75      0.77       104\n",
            "      weighted avg       0.79      0.78      0.77       104\n",
            "\n"
          ]
        }
      ],
      "source": [
        "print(\"[INFO] evaluating network...\")\n",
        "predIdxs = model.predict(testX, batch_size=bs)\n",
        "y_predict =predIdxs\n",
        "# for each image in the testing set we need to find the index of the label with corresponding largest predicted probability\n",
        "predIdxs = np.argmax(predIdxs, axis=1)\n",
        "\n",
        "# show a nicely formatted classification reportD\n",
        "print(classification_report(testY.argmax(axis=1), predIdxs,target_names=mlb.classes_))"
      ]
    },
    {
      "cell_type": "code",
      "execution_count": 17,
      "metadata": {
        "colab": {
          "base_uri": "https://localhost:8080/",
          "height": 494
        },
        "id": "M_jH-hxXSx-U",
        "outputId": "1d418fba-c092-4b60-9f8b-72ea4de936a2"
      },
      "outputs": [
        {
          "data": {
            "text/plain": [
              "<matplotlib.legend.Legend at 0x7c4454b3bbe0>"
            ]
          },
          "execution_count": 17,
          "metadata": {},
          "output_type": "execute_result"
        },
        {
          "data": {
            "image/png": "[encoded data removed]",
            "text/plain": [
              "<Figure size 640x480 with 1 Axes>"
            ]
          },
          "metadata": {},
          "output_type": "display_data"
        }
      ],
      "source": [
        "N = epochs\n",
        "plt.style.use(\"ggplot\")\n",
        "plt.figure()\n",
        "plt.plot(np.arange(0, N), H.history[\"loss\"], label=\"train_loss\")\n",
        "plt.plot(np.arange(0, N), H.history[\"val_loss\"], label=\"val_loss\")\n",
        "plt.plot(np.arange(0, N), H.history[\"accuracy\"], label=\"train_acc\")\n",
        "plt.plot(np.arange(0, N), H.history[\"val_accuracy\"], label=\"val_acc\")\n",
        "plt.title(\"Training Loss and Accuracy\")\n",
        "plt.xlabel(\"Epoch #\")\n",
        "plt.ylabel(\"Loss/Accuracy\")\n",
        "plt.legend(loc=\"lower left\")"
      ]
    },
    {
      "cell_type": "code",
      "execution_count": 18,
      "metadata": {
        "colab": {
          "base_uri": "https://localhost:8080/",
          "height": 477
        },
        "id": "lTxa-kqm-Pbe",
        "outputId": "ddec4e1e-10cd-405c-b85f-ff6f47d1544c"
      },
      "outputs": [
        {
          "data": {
            "image/png": "[encoded data removed]",
            "text/plain": [
              "<Figure size 640x480 with 2 Axes>"
            ]
          },
          "metadata": {},
          "output_type": "display_data"
        }
      ],
      "source": [
        "# Pembuatan Confusion Matrix Display\n",
        "cmd= metrics.confusion_matrix(testY.argmax(axis=1), np.argmax(y_predict, axis=1))\n",
        "display_label = ['Bleached','Healthy','Partially Bleached']\n",
        "\n",
        "cm_lr= ConfusionMatrixDisplay(cmd, display_labels = display_label )\n",
        "cm_lr.plot(cmap=plt.cm.RdPu)\n",
        "plt.grid(False)\n",
        "plt.title(\"Confusion Matrix Display\")\n",
        "\n",
        "plt.show()"
      ]
    },
    {
      "cell_type": "code",
      "execution_count": 21,
      "metadata": {
        "id": "AQ0Rpg0CuZrd"
      },
      "outputs": [],
      "source": [
        "# model.save('/content/drive/MyDrive/Skripsi/Program CNN/DenseNet/Saved Model/new_densenet_30_warna_2_3CAT.h5')"
      ]
    },
    {
      "cell_type": "code",
      "execution_count": 22,
      "metadata": {
        "id": "nPodozy7z1Fy"
      },
      "outputs": [],
      "source": [
        "# with open('/content/drive/MyDrive/Skripsi/Program CNN/DenseNet/Saved History Model/new_densenet169_H_30_2_3CAT', 'wb') as file_pi:\n",
        "    # pickle.dump(H.history, file_pi)"
      ]
    }
  ],
  "metadata": {
    "accelerator": "GPU",
    "colab": {
      "gpuType": "T4",
      "provenance": []
    },
    "kernelspec": {
      "display_name": "Python 3",
      "name": "python3"
    },
    "language_info": {
      "name": "python"
    }
  },
  "nbformat": 4,
  "nbformat_minor": 0
}
