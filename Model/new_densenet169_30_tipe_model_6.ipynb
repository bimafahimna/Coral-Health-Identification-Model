{
  "nbformat": 4,
  "nbformat_minor": 0,
  "metadata": {
    "colab": {
      "provenance": [],
      "gpuType": "T4"
    },
    "kernelspec": {
      "name": "python3",
      "display_name": "Python 3"
    },
    "language_info": {
      "name": "python"
    },
    "accelerator": "GPU"
  },
  "cells": [
    {
      "cell_type": "code",
      "source": [
        "from tensorflow.keras.preprocessing.image import img_to_array\n",
        "from tensorflow.keras.applications import MobileNetV2, VGG19, DenseNet121, DenseNet169\n",
        "from tensorflow.keras.layers import AveragePooling2D\n",
        "from tensorflow.keras.layers import Dropout\n",
        "from tensorflow.keras.layers import Flatten\n",
        "from tensorflow.keras.layers import Dense\n",
        "from tensorflow.keras.layers import Input\n",
        "from tensorflow.keras.models import Model\n",
        "from keras.models import Sequential\n",
        "from keras import layers\n",
        "\n",
        "from tensorflow.keras.preprocessing.image import img_to_array\n",
        "from tensorflow.keras.preprocessing.image import load_img\n",
        "from tensorflow.keras.preprocessing.image import ImageDataGenerator\n",
        "\n",
        "from sklearn.preprocessing import MultiLabelBinarizer\n",
        "from sklearn.model_selection import train_test_split\n",
        "from sklearn import metrics\n",
        "from sklearn.metrics import classification_report\n",
        "from sklearn.metrics import ConfusionMatrixDisplay\n",
        "from sklearn.metrics import confusion_matrix\n",
        "\n",
        "import matplotlib.pyplot as plt\n",
        "import numpy as np\n",
        "import random\n",
        "import cv2\n",
        "import os\n",
        "import seaborn as sns\n",
        "import pickle"
      ],
      "metadata": {
        "id": "Cb07UR-iQfIl"
      },
      "execution_count": 1,
      "outputs": []
    },
    {
      "cell_type": "code",
      "source": [
        "from google.colab import drive\n",
        "drive.mount('/content/drive')"
      ],
      "metadata": {
        "colab": {
          "base_uri": "https://localhost:8080/"
        },
        "id": "rwSlJKODmafU",
        "outputId": "22ffad08-eafb-45dd-a69c-85d2e9912d47"
      },
      "execution_count": 2,
      "outputs": [
        {
          "output_type": "stream",
          "name": "stdout",
          "text": [
            "Drive already mounted at /content/drive; to attempt to forcibly remount, call drive.mount(\"/content/drive\", force_remount=True).\n"
          ]
        }
      ]
    },
    {
      "cell_type": "code",
      "source": [
        "!pip install imutils"
      ],
      "metadata": {
        "colab": {
          "base_uri": "https://localhost:8080/"
        },
        "id": "4aqPrSUGQiiy",
        "outputId": "55af83ee-7551-44cb-8fb1-12cbf2a84146"
      },
      "execution_count": 3,
      "outputs": [
        {
          "output_type": "stream",
          "name": "stdout",
          "text": [
            "Requirement already satisfied: imutils in /usr/local/lib/python3.10/dist-packages (0.5.4)\n"
          ]
        }
      ]
    },
    {
      "cell_type": "code",
      "source": [
        "from imutils import paths"
      ],
      "metadata": {
        "id": "Vg0vHfdqQmXg"
      },
      "execution_count": 4,
      "outputs": []
    },
    {
      "cell_type": "code",
      "source": [
        "imagePaths = sorted(list(paths.list_images(\"/content/drive/MyDrive/Skripsi/Dataset Terumbu Karang/Dataset/Data Tipe/Bersih_cobacoba 2\")))\n",
        "\n",
        "# random shuffle\n",
        "random.seed(42)\n",
        "random.shuffle(imagePaths)\n",
        "\n",
        "data = []\n",
        "labels = []\n",
        "image_dims = (224, 224, 3)\n",
        "\n",
        "for imagePath in imagePaths:\n",
        "    image = cv2.imread(imagePath)\n",
        "    image = cv2.resize(image, (image_dims[1], image_dims[0]))\n",
        "    image = img_to_array(image)\n",
        "    data.append(image)\n",
        "    l = label = imagePath.split(os.path.sep)[-2].split(\"_\")\n",
        "    labels.append(l)\n",
        "\n",
        "data = np.array(data, dtype=\"float\") / 255.0\n",
        "labels = np.array(labels)\n",
        "print(\"{} images ({:.2f}MB)\".format(len(imagePaths), data.nbytes / (1024 * 1000.0)))"
      ],
      "metadata": {
        "colab": {
          "base_uri": "https://localhost:8080/"
        },
        "id": "KzEmADFwQrS0",
        "outputId": "01808f7f-d6a5-4925-b81e-778f3290646b"
      },
      "execution_count": 5,
      "outputs": [
        {
          "output_type": "stream",
          "name": "stdout",
          "text": [
            "589 images (692.66MB)\n"
          ]
        }
      ]
    },
    {
      "cell_type": "code",
      "source": [
        "aug = ImageDataGenerator(\n",
        "    rotation_range=20,\n",
        "    zoom_range=0.15,\n",
        "    width_shift_range=0.2,\n",
        "    height_shift_range=0.2,\n",
        "    shear_range=0.15,\n",
        "    horizontal_flip=True,\n",
        "    fill_mode=\"nearest\",\n",
        ")"
      ],
      "metadata": {
        "id": "O6xFkKlRaqJP"
      },
      "execution_count": 6,
      "outputs": []
    },
    {
      "cell_type": "code",
      "source": [
        "data = np.array(data)\n",
        "label = np.array(labels)\n",
        "print(data.shape)"
      ],
      "metadata": {
        "colab": {
          "base_uri": "https://localhost:8080/"
        },
        "id": "QsMj9vGRRLC8",
        "outputId": "41ebc9ec-52e7-4a94-d40c-abb6d35f35f2"
      },
      "execution_count": 7,
      "outputs": [
        {
          "output_type": "stream",
          "name": "stdout",
          "text": [
            "(589, 224, 224, 3)\n"
          ]
        }
      ]
    },
    {
      "cell_type": "code",
      "source": [
        "mlb = MultiLabelBinarizer()\n",
        "labels = mlb.fit_transform(labels)\n",
        "# total 4 labels\n",
        "print(\"class labels:\")\n",
        "for (i, label) in enumerate(mlb.classes_):\n",
        "    print(\"{}. {}\".format(i + 1, label))"
      ],
      "metadata": {
        "colab": {
          "base_uri": "https://localhost:8080/"
        },
        "id": "v42xWSjvRNjO",
        "outputId": "2f64d5d8-083d-4e6f-9777-9b17dd0f85fa"
      },
      "execution_count": 8,
      "outputs": [
        {
          "output_type": "stream",
          "name": "stdout",
          "text": [
            "class labels:\n",
            "1. Boulder\n",
            "2. Branching\n",
            "3. Table\n"
          ]
        }
      ]
    },
    {
      "cell_type": "code",
      "source": [
        "print(labels)"
      ],
      "metadata": {
        "colab": {
          "base_uri": "https://localhost:8080/"
        },
        "id": "SKRU25XQmYmE",
        "outputId": "b0debab4-a48a-48a6-9cee-b1e2d2117ba0"
      },
      "execution_count": 9,
      "outputs": [
        {
          "output_type": "stream",
          "name": "stdout",
          "text": [
            "[[0 1 0]\n",
            " [0 0 1]\n",
            " [1 0 0]\n",
            " ...\n",
            " [0 1 0]\n",
            " [1 0 0]\n",
            " [1 0 0]]\n"
          ]
        }
      ]
    },
    {
      "cell_type": "code",
      "source": [
        "# imagePaths = sorted(list(paths.list_images(\"/content/drive/MyDrive/Skripsi/Dataset Terumbu Karang/Dataset/Data Tipe/Data Lapangan Bersih semua 1\")))\n",
        "imagePaths = sorted(list(paths.list_images(\"/content/drive/MyDrive/Skripsi/Dataset Terumbu Karang/Dataset/Data Tipe/Data Lapangan Bersih semua 3\")))\n",
        "\n",
        "# random shuffle\n",
        "random.seed(42)\n",
        "random.shuffle(imagePaths)\n",
        "\n",
        "data2 = []\n",
        "labels2 = []\n",
        "image_dims = (224, 224, 3)\n",
        "\n",
        "\n",
        "for imagePath in imagePaths:\n",
        "    image = cv2.imread(imagePath)\n",
        "    image = cv2.resize(image, (image_dims[1], image_dims[0]))\n",
        "    image = img_to_array(image)\n",
        "    data2.append(image)\n",
        "    l = label = imagePath.split(os.path.sep)[-2].split(\"_\")\n",
        "    labels2.append(l)\n",
        "\n",
        "data2 = np.array(data2, dtype=\"float\") / 255.0\n",
        "labels2 = np.array(labels2)\n",
        "print(\"{} images ({:.2f}MB)\".format(len(imagePaths), data.nbytes / (1024 * 1000.0)))\n",
        "\n",
        "data2 = np.array(data2)\n",
        "label2 = np.array(labels2)\n",
        "print(data2.shape)\n",
        "\n",
        "mlb = MultiLabelBinarizer()\n",
        "labels2 = mlb.fit_transform(labels2)\n",
        "# total 3 labels\n",
        "print(\"class labels:\")\n",
        "for (i, label2) in enumerate(mlb.classes_):\n",
        "    print(\"{}. {}\".format(i+1, label2))\n",
        "\n",
        "testx = data2\n",
        "testy = labels2\n"
      ],
      "metadata": {
        "colab": {
          "base_uri": "https://localhost:8080/"
        },
        "id": "H8slzXu4F6Z_",
        "outputId": "8bfbf59e-6ebe-4d92-a4e3-13eff3eacffb"
      },
      "execution_count": 10,
      "outputs": [
        {
          "output_type": "stream",
          "name": "stdout",
          "text": [
            "67 images (692.66MB)\n",
            "(589, 224, 224, 3)\n",
            "class labels:\n",
            "1. Boulder\n",
            "2. Branching\n",
            "3. Table\n"
          ]
        }
      ]
    },
    {
      "cell_type": "code",
      "source": [
        "densenet = DenseNet169(\n",
        "    weights='imagenet',\n",
        "    include_top=False,\n",
        "    input_shape=(224,224,3)\n",
        ")"
      ],
      "metadata": {
        "id": "4Y8ZrLxQfzun"
      },
      "execution_count": 11,
      "outputs": []
    },
    {
      "cell_type": "code",
      "source": [
        "bs = 8\n",
        "lr = 0.001\n",
        "size = (224, 224)\n",
        "shape = (224,224, 3)\n",
        "epochs = 30\n",
        "class_number = 3"
      ],
      "metadata": {
        "id": "zY3wvGvPRP1P"
      },
      "execution_count": 12,
      "outputs": []
    },
    {
      "cell_type": "code",
      "source": [
        "\n",
        "def DenseNet_model(learning_rate, input_shape,class_number):\n",
        "    densenet = DenseNet169(\n",
        "    weights='imagenet',\n",
        "    include_top=False,\n",
        "    input_shape=input_shape)\n",
        "\n",
        "    for layer in densenet.layers[:-4]:\n",
        "        layer.trainable = False\n",
        "\n",
        "    model = Sequential()\n",
        "    model.add(densenet)\n",
        "    model.add(AveragePooling2D(pool_size=(2, 2)))\n",
        "    model.add(Flatten())\n",
        "    model.add(Dense(1024, activation=\"relu\"))\n",
        "    model.add(Dense(512, activation=\"relu\"))\n",
        "    model.add(Dropout(0.5))\n",
        "    model.add(layers.Dense(class_number, activation='softmax'))\n",
        "\n",
        "    return model\n"
      ],
      "metadata": {
        "id": "JAREKGXcRO0X"
      },
      "execution_count": 13,
      "outputs": []
    },
    {
      "cell_type": "code",
      "source": [
        "model = DenseNet_model(lr,shape,class_number)\n",
        "model.compile(loss= \"categorical_crossentropy\", metrics=[\"accuracy\"], optimizer=\"adam\")"
      ],
      "metadata": {
        "id": "aKaseshWhbpC"
      },
      "execution_count": 14,
      "outputs": []
    },
    {
      "cell_type": "code",
      "source": [
        "model.summary()"
      ],
      "metadata": {
        "colab": {
          "base_uri": "https://localhost:8080/"
        },
        "id": "t-9ipxlLhMF7",
        "outputId": "21520160-f5bb-4daf-ce0d-554d1f78e8fe"
      },
      "execution_count": 15,
      "outputs": [
        {
          "output_type": "stream",
          "name": "stdout",
          "text": [
            "Model: \"sequential\"\n",
            "_________________________________________________________________\n",
            " Layer (type)                Output Shape              Param #   \n",
            "=================================================================\n",
            " densenet169 (Functional)    (None, 7, 7, 1664)        12642880  \n",
            "                                                                 \n",
            " average_pooling2d (AverageP  (None, 3, 3, 1664)       0         \n",
            " ooling2D)                                                       \n",
            "                                                                 \n",
            " flatten (Flatten)           (None, 14976)             0         \n",
            "                                                                 \n",
            " dense (Dense)               (None, 1024)              15336448  \n",
            "                                                                 \n",
            " dense_1 (Dense)             (None, 512)               524800    \n",
            "                                                                 \n",
            " dropout (Dropout)           (None, 512)               0         \n",
            "                                                                 \n",
            " dense_2 (Dense)             (None, 3)                 1539      \n",
            "                                                                 \n",
            "=================================================================\n",
            "Total params: 28,505,667\n",
            "Trainable params: 15,902,979\n",
            "Non-trainable params: 12,602,688\n",
            "_________________________________________________________________\n"
          ]
        }
      ]
    },
    {
      "cell_type": "code",
      "source": [
        "trainX, testX, trainY, testY = train_test_split(data, labels, test_size=0.20)"
      ],
      "metadata": {
        "id": "SN3TNwCBRa-H"
      },
      "execution_count": 16,
      "outputs": []
    },
    {
      "cell_type": "code",
      "source": [
        "print(trainX.shape,trainY.shape,testX.shape,testY.shape,testx.shape,testy.shape)"
      ],
      "metadata": {
        "colab": {
          "base_uri": "https://localhost:8080/"
        },
        "id": "xPH5z9UsJmJ-",
        "outputId": "e5462e7d-075a-4a84-9ab3-e289b7c57eee"
      },
      "execution_count": 26,
      "outputs": [
        {
          "output_type": "stream",
          "name": "stdout",
          "text": [
            "(471, 224, 224, 3) (471, 3) (118, 224, 224, 3) (118, 3) (67, 224, 224, 3) (67, 3)\n"
          ]
        }
      ]
    },
    {
      "cell_type": "code",
      "source": [
        "# print(\"[INFO] training ...\")\n",
        "# H = model.fit(aug.flow(trainX, trainY, batch_size=bs),steps_per_epoch=len(trainX) // bs,\tepochs=epochs)"
      ],
      "metadata": {
        "id": "5vz5aqPd8Vma"
      },
      "execution_count": 18,
      "outputs": []
    },
    {
      "cell_type": "code",
      "source": [
        "print(\"[INFO] training ...\")\n",
        "H = model.fit(aug.flow(trainX, trainY, batch_size=bs),steps_per_epoch=len(trainX) // bs,\tvalidation_data=(testX, testY),\tvalidation_steps=len(testX) // bs,\tepochs=epochs)"
      ],
      "metadata": {
        "colab": {
          "base_uri": "https://localhost:8080/"
        },
        "id": "_MLbAOGrRmdu",
        "outputId": "9abbfa6b-b947-42a4-8278-8f5c9c0b1b5a"
      },
      "execution_count": 19,
      "outputs": [
        {
          "output_type": "stream",
          "name": "stdout",
          "text": [
            "[INFO] training ...\n",
            "Epoch 1/30\n",
            "58/58 [==============================] - 48s 308ms/step - loss: 4.2953 - accuracy: 0.6328 - val_loss: 0.2644 - val_accuracy: 0.9153\n",
            "Epoch 2/30\n",
            "58/58 [==============================] - 7s 114ms/step - loss: 0.6002 - accuracy: 0.8294 - val_loss: 0.1354 - val_accuracy: 0.9576\n",
            "Epoch 3/30\n",
            "58/58 [==============================] - 8s 145ms/step - loss: 0.3063 - accuracy: 0.8942 - val_loss: 0.1256 - val_accuracy: 0.9576\n",
            "Epoch 4/30\n",
            "58/58 [==============================] - 6s 111ms/step - loss: 0.3086 - accuracy: 0.8834 - val_loss: 0.1100 - val_accuracy: 0.9576\n",
            "Epoch 5/30\n",
            "58/58 [==============================] - 17s 294ms/step - loss: 0.2804 - accuracy: 0.9222 - val_loss: 0.0954 - val_accuracy: 0.9661\n",
            "Epoch 6/30\n",
            "58/58 [==============================] - 16s 269ms/step - loss: 0.3174 - accuracy: 0.9136 - val_loss: 0.1415 - val_accuracy: 0.9492\n",
            "Epoch 7/30\n",
            "58/58 [==============================] - 7s 121ms/step - loss: 0.2762 - accuracy: 0.9071 - val_loss: 0.2013 - val_accuracy: 0.9322\n",
            "Epoch 8/30\n",
            "58/58 [==============================] - 9s 152ms/step - loss: 0.2567 - accuracy: 0.9158 - val_loss: 0.3456 - val_accuracy: 0.9322\n",
            "Epoch 9/30\n",
            "58/58 [==============================] - 11s 190ms/step - loss: 0.1414 - accuracy: 0.9460 - val_loss: 0.1239 - val_accuracy: 0.9576\n",
            "Epoch 10/30\n",
            "58/58 [==============================] - 16s 273ms/step - loss: 0.1496 - accuracy: 0.9460 - val_loss: 0.1597 - val_accuracy: 0.9576\n",
            "Epoch 11/30\n",
            "58/58 [==============================] - 9s 149ms/step - loss: 0.1401 - accuracy: 0.9590 - val_loss: 0.2854 - val_accuracy: 0.9237\n",
            "Epoch 12/30\n",
            "58/58 [==============================] - 7s 114ms/step - loss: 0.1675 - accuracy: 0.9546 - val_loss: 0.3129 - val_accuracy: 0.9237\n",
            "Epoch 13/30\n",
            "58/58 [==============================] - 8s 143ms/step - loss: 0.0958 - accuracy: 0.9698 - val_loss: 0.1802 - val_accuracy: 0.9492\n",
            "Epoch 14/30\n",
            "58/58 [==============================] - 7s 113ms/step - loss: 0.1161 - accuracy: 0.9590 - val_loss: 0.0742 - val_accuracy: 0.9746\n",
            "Epoch 15/30\n",
            "58/58 [==============================] - 8s 141ms/step - loss: 0.1451 - accuracy: 0.9525 - val_loss: 0.3089 - val_accuracy: 0.9576\n",
            "Epoch 16/30\n",
            "58/58 [==============================] - 9s 149ms/step - loss: 0.1627 - accuracy: 0.9503 - val_loss: 0.1452 - val_accuracy: 0.9576\n",
            "Epoch 17/30\n",
            "58/58 [==============================] - 7s 114ms/step - loss: 0.1003 - accuracy: 0.9698 - val_loss: 0.4045 - val_accuracy: 0.9407\n",
            "Epoch 18/30\n",
            "58/58 [==============================] - 8s 142ms/step - loss: 0.3485 - accuracy: 0.9179 - val_loss: 0.1945 - val_accuracy: 0.9492\n",
            "Epoch 19/30\n",
            "58/58 [==============================] - 7s 120ms/step - loss: 0.1100 - accuracy: 0.9676 - val_loss: 0.1052 - val_accuracy: 0.9661\n",
            "Epoch 20/30\n",
            "58/58 [==============================] - 8s 129ms/step - loss: 0.0685 - accuracy: 0.9698 - val_loss: 0.1292 - val_accuracy: 0.9576\n",
            "Epoch 21/30\n",
            "58/58 [==============================] - 9s 148ms/step - loss: 0.0746 - accuracy: 0.9719 - val_loss: 0.1496 - val_accuracy: 0.9661\n",
            "Epoch 22/30\n",
            "58/58 [==============================] - 7s 113ms/step - loss: 0.1569 - accuracy: 0.9525 - val_loss: 0.1061 - val_accuracy: 0.9576\n",
            "Epoch 23/30\n",
            "58/58 [==============================] - 8s 141ms/step - loss: 0.0278 - accuracy: 0.9870 - val_loss: 0.1383 - val_accuracy: 0.9492\n",
            "Epoch 24/30\n",
            "58/58 [==============================] - 7s 113ms/step - loss: 0.1599 - accuracy: 0.9395 - val_loss: 0.2031 - val_accuracy: 0.9576\n",
            "Epoch 25/30\n",
            "58/58 [==============================] - 7s 113ms/step - loss: 0.0726 - accuracy: 0.9741 - val_loss: 0.0888 - val_accuracy: 0.9746\n",
            "Epoch 26/30\n",
            "58/58 [==============================] - 8s 130ms/step - loss: 0.0642 - accuracy: 0.9784 - val_loss: 0.1817 - val_accuracy: 0.9492\n",
            "Epoch 27/30\n",
            "58/58 [==============================] - 8s 141ms/step - loss: 0.0810 - accuracy: 0.9762 - val_loss: 0.2079 - val_accuracy: 0.9492\n",
            "Epoch 28/30\n",
            "58/58 [==============================] - 7s 122ms/step - loss: 0.0898 - accuracy: 0.9719 - val_loss: 0.1465 - val_accuracy: 0.9407\n",
            "Epoch 29/30\n",
            "58/58 [==============================] - 7s 113ms/step - loss: 0.0871 - accuracy: 0.9698 - val_loss: 0.3051 - val_accuracy: 0.9322\n",
            "Epoch 30/30\n",
            "58/58 [==============================] - 7s 124ms/step - loss: 0.0418 - accuracy: 0.9849 - val_loss: 0.2919 - val_accuracy: 0.9576\n"
          ]
        }
      ]
    },
    {
      "cell_type": "code",
      "source": [
        "print(\"[INFO] evaluating network...\")\n",
        "predIdxs = model.predict(testx, batch_size=bs)\n",
        "y_predict =predIdxs\n",
        "# for each image in the testing set we need to find the index of the label with corresponding largest predicted probability\n",
        "predIdxs = np.argmax(predIdxs, axis=1)\n",
        "\n",
        "# show a nicely formatted classification report\n",
        "print(classification_report(testy.argmax(axis=1), predIdxs,target_names=mlb.classes_))"
      ],
      "metadata": {
        "colab": {
          "base_uri": "https://localhost:8080/"
        },
        "id": "rcBA-LJtHYen",
        "outputId": "46a712f4-bbda-4853-806d-004573055915"
      },
      "execution_count": 20,
      "outputs": [
        {
          "output_type": "stream",
          "name": "stdout",
          "text": [
            "[INFO] evaluating network...\n",
            "9/9 [==============================] - 5s 269ms/step\n",
            "              precision    recall  f1-score   support\n",
            "\n",
            "     Boulder       1.00      0.96      0.98        27\n",
            "   Branching       0.90      0.93      0.92        30\n",
            "       Table       0.80      0.80      0.80        10\n",
            "\n",
            "    accuracy                           0.93        67\n",
            "   macro avg       0.90      0.90      0.90        67\n",
            "weighted avg       0.93      0.93      0.93        67\n",
            "\n"
          ]
        }
      ]
    },
    {
      "cell_type": "code",
      "source": [
        "# print(\"[INFO] evaluating network...\")\n",
        "# predIdxs = model.predict(testX, batch_size=bs)\n",
        "# y_predict =predIdxs\n",
        "# # for each image in the testing set we need to find the index of the label with corresponding largest predicted probability\n",
        "# predIdxs = np.argmax(predIdxs, axis=1)\n",
        "\n",
        "# # show a nicely formatted classification report\n",
        "# print(classification_report(testY.argmax(axis=1), predIdxs,target_names=mlb.classes_))"
      ],
      "metadata": {
        "id": "HTjDZMe3SvfD"
      },
      "execution_count": 21,
      "outputs": []
    },
    {
      "cell_type": "code",
      "source": [
        "N = epochs\n",
        "plt.style.use(\"ggplot\")\n",
        "plt.figure()\n",
        "plt.plot(np.arange(0, N), H.history[\"loss\"], label=\"train_loss\")\n",
        "plt.plot(np.arange(0, N), H.history[\"val_loss\"], label=\"val_loss\")\n",
        "plt.plot(np.arange(0, N), H.history[\"accuracy\"], label=\"train_acc\")\n",
        "plt.plot(np.arange(0, N), H.history[\"val_accuracy\"], label=\"val_acc\")\n",
        "plt.title(\"Training Loss and Accuracy\")\n",
        "plt.xlabel(\"Epoch 30\")\n",
        "plt.ylabel(\"Loss/Accuracy\")\n",
        "plt.legend(loc=\"lower left\")"
      ],
      "metadata": {
        "colab": {
          "base_uri": "https://localhost:8080/",
          "height": 494
        },
        "id": "M_jH-hxXSx-U",
        "outputId": "bf5abd7d-388d-498f-8213-1eee5ed0301e"
      },
      "execution_count": 22,
      "outputs": [
        {
          "output_type": "execute_result",
          "data": {
            "text/plain": [
              "<matplotlib.legend.Legend at 0x786728583580>"
            ]
          },
          "metadata": {},
          "execution_count": 22
        },
        {
          "output_type": "display_data",
          "data": {
            "text/plain": [
              "<Figure size 640x480 with 1 Axes>"
            ],
            "image/png": "[encoded data removed]"
          },
          "metadata": {}
        }
      ]
    },
    {
      "cell_type": "code",
      "source": [
        "# # Pembuatan Confusion Matrix Display\n",
        "# cmd= metrics.confusion_matrix(testY.argmax(axis=1), np.argmax(y_predict, axis=1))\n",
        "# display_label = ['Boulder','Branching','Table']\n",
        "\n",
        "# cm_lr= ConfusionMatrixDisplay(cmd, display_labels = display_label )\n",
        "# cm_lr.plot(cmap=plt.cm.RdPu)\n",
        "# plt.grid(False)\n",
        "# plt.title(\"Confusion Matrix Display\")\n",
        "\n",
        "# plt.show()"
      ],
      "metadata": {
        "id": "rE6xuq9kMJf2"
      },
      "execution_count": null,
      "outputs": []
    },
    {
      "cell_type": "code",
      "source": [
        "# Pembuatan Confusion Matrix Display\n",
        "cmd= metrics.confusion_matrix(testy.argmax(axis=1), np.argmax(y_predict, axis=1))\n",
        "display_label = ['Boulder','Branching','Table']\n",
        "\n",
        "cm_lr= ConfusionMatrixDisplay(cmd, display_labels = display_label )\n",
        "cm_lr.plot(cmap=plt.cm.RdPu)\n",
        "plt.grid(False)\n",
        "plt.title(\"Confusion Matrix Display\")\n",
        "\n",
        "plt.show()"
      ],
      "metadata": {
        "id": "lTxa-kqm-Pbe",
        "colab": {
          "base_uri": "https://localhost:8080/",
          "height": 477
        },
        "outputId": "9b82ba90-d4aa-432d-f42f-0d3c8d40f702"
      },
      "execution_count": 23,
      "outputs": [
        {
          "output_type": "display_data",
          "data": {
            "text/plain": [
              "<Figure size 640x480 with 2 Axes>"
            ],
            "image/png": "[encoded data removed]"
          },
          "metadata": {}
        }
      ]
    },
    {
      "cell_type": "code",
      "source": [
        "# model.save('/content/drive/MyDrive/Skripsi/Program CNN/DenseNet/Saved Model/new_densenet169_30_tipe_model_6.h5')"
      ],
      "metadata": {
        "id": "ov9PQs-5lJDJ"
      },
      "execution_count": 27,
      "outputs": []
    },
    {
      "cell_type": "code",
      "source": [
        "# with open('/content/drive/MyDrive/Skripsi/Program CNN/DenseNet/Saved History Model/new_densenet169_H_30_tipe_6', 'wb') as file_pi:\n",
        "#     pickle.dump(H.history, file_pi)"
      ],
      "metadata": {
        "id": "DZ1wxLF3z9VX"
      },
      "execution_count": 29,
      "outputs": []
    }
  ]
}